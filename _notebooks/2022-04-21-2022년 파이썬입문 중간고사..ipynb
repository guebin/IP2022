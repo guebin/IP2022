{
 "cells": [
  {
   "cell_type": "markdown",
   "id": "706c4d2c",
   "metadata": {},
   "source": [
    "# 2022년 파이썬 입문 중간고사 예상문제"
   ]
  },
  {
   "cell_type": "code",
   "execution_count": null,
   "id": "cfff0c96-2744-46c5-a350-f764603d0573",
   "metadata": {},
   "outputs": [],
   "source": []
  }
 ],
 "metadata": {
  "kernelspec": {
   "display_name": "Python 3 (ipykernel)",
   "language": "python",
   "name": "python3"
  },
  "language_info": {
   "codemirror_mode": {
    "name": "ipython",
    "version": 3
   },
   "file_extension": ".py",
   "mimetype": "text/x-python",
   "name": "python",
   "nbconvert_exporter": "python",
   "pygments_lexer": "ipython3",
   "version": "3.9.10"
  }
 },
 "nbformat": 4,
 "nbformat_minor": 5
}
