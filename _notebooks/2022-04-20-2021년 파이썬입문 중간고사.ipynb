{
 "cells": [
  {
   "cell_type": "markdown",
   "id": "706c4d2c",
   "metadata": {},
   "source": [
    "# 2021년 파이썬 입문 중간고사"
   ]
  },
  {
   "cell_type": "markdown",
   "id": "a4069a34",
   "metadata": {},
   "source": [
    "### `1` 다음을 읽고 참인것을 모두 골라라. (10점) \n",
    "```\n",
    "(ㄱ) 딕셔너리는 key와 value가 하나의 쌍으로 되어 {}로 둘러싸여 있다. \n",
    "(ㄴ) `abs(-20)`의 실행결과는 `20`이다. \n",
    "(ㄷ) `[1]+[2]`의 실행결과는 `[3]` 이다. \n",
    "(ㄹ) `(1,)`의 자료형은 tuple이다. \n",
    "(ㅁ) 자료형이 `str`이면 각 원소를 쉽게 바꿀 수 있다. \n",
    "``` "
   ]
  },
  {
   "cell_type": "markdown",
   "id": "a496edf6",
   "metadata": {},
   "source": [
    "---"
   ]
  },
  {
   "cell_type": "markdown",
   "id": "c2166a05",
   "metadata": {},
   "source": [
    "### `2` 아래의 실행결과 중 올바른 것은? (35점)"
   ]
  },
  {
   "cell_type": "markdown",
   "id": "2f776bc3",
   "metadata": {},
   "source": [
    "#### `(a)`"
   ]
  },
  {
   "cell_type": "markdown",
   "id": "b1c6cabb",
   "metadata": {},
   "source": [
    "```python\n",
    "a=1.0\n",
    "b=2\n",
    "type(a+b)\n",
    "```\n",
    "```\n",
    "(ㄱ) int (ㄴ) float (ㄷ) bool  (ㄹ) complex \n",
    "(ㅁ) str (ㅂ) list  (ㅅ) tuple (ㅇ) dict \n",
    "```"
   ]
  },
  {
   "cell_type": "markdown",
   "id": "8196d777",
   "metadata": {},
   "source": [
    "#### `(b)`"
   ]
  },
  {
   "cell_type": "markdown",
   "id": "ae2d5761",
   "metadata": {},
   "source": [
    "```python\n",
    "a=1\n",
    "b=2\n",
    "type(a==b)\n",
    "```\n",
    "```\n",
    "(ㄱ) int (ㄴ) float (ㄷ) bool  (ㄹ) complex \n",
    "(ㅁ) str (ㅂ) list  (ㅅ) tuple (ㅇ) dict \n",
    "```"
   ]
  },
  {
   "cell_type": "markdown",
   "id": "5904bef1",
   "metadata": {},
   "source": [
    "#### `(c)`"
   ]
  },
  {
   "cell_type": "markdown",
   "id": "293fae1d",
   "metadata": {},
   "source": [
    "```python\n",
    "a=1\n",
    "b=2\n",
    "type(int(a==b))\n",
    "```\n",
    "```\n",
    "(ㄱ) int (ㄴ) float (ㄷ) bool  (ㄹ) complex \n",
    "(ㅁ) str (ㅂ) list  (ㅅ) tuple (ㅇ) dict \n",
    "```"
   ]
  },
  {
   "cell_type": "markdown",
   "id": "af93c556",
   "metadata": {},
   "source": [
    "#### `(d)`"
   ]
  },
  {
   "cell_type": "markdown",
   "id": "6c0d8c30",
   "metadata": {},
   "source": [
    "```python\n",
    "type([1,2,3])\n",
    "```\n",
    "```\n",
    "(ㄱ) int (ㄴ) float (ㄷ) bool  (ㄹ) complex \n",
    "(ㅁ) str (ㅂ) list  (ㅅ) tuple (ㅇ) dict \n",
    "```"
   ]
  },
  {
   "cell_type": "markdown",
   "id": "126cdd37",
   "metadata": {},
   "source": [
    "#### `(e)`"
   ]
  },
  {
   "cell_type": "markdown",
   "id": "c7bd933e",
   "metadata": {},
   "source": [
    "```python\n",
    "a=1\n",
    "type(a)\n",
    "```\n",
    "```\n",
    "(ㄱ) int (ㄴ) float (ㄷ) bool  (ㄹ) complex \n",
    "(ㅁ) str (ㅂ) list  (ㅅ) tuple (ㅇ) dict \n",
    "```"
   ]
  },
  {
   "cell_type": "markdown",
   "id": "8fae09f2",
   "metadata": {},
   "source": [
    "#### `(f)`"
   ]
  },
  {
   "cell_type": "markdown",
   "id": "1d95e45d",
   "metadata": {},
   "source": [
    "```python\n",
    "a=(1)\n",
    "type(a)\n",
    "```\n",
    "```\n",
    "(ㄱ) int (ㄴ) float (ㄷ) bool  (ㄹ) complex \n",
    "(ㅁ) str (ㅂ) list  (ㅅ) tuple (ㅇ) dict \n",
    "```"
   ]
  },
  {
   "cell_type": "markdown",
   "id": "1f502c33",
   "metadata": {},
   "source": [
    "#### `(g)`"
   ]
  },
  {
   "cell_type": "markdown",
   "id": "b7cc5e77",
   "metadata": {},
   "source": [
    "```python\n",
    "a=(1,)\n",
    "type(a)\n",
    "```\n",
    "```\n",
    "(ㄱ) int (ㄴ) float (ㄷ) bool  (ㄹ) complex \n",
    "(ㅁ) str (ㅂ) list  (ㅅ) tuple (ㅇ) dict \n",
    "```"
   ]
  },
  {
   "cell_type": "markdown",
   "id": "6e0fce9d",
   "metadata": {},
   "source": [
    "### `3` 아래의 코드를 잘 읽고 물음에 답하라. (25점) "
   ]
  },
  {
   "cell_type": "markdown",
   "id": "5d222b51",
   "metadata": {},
   "source": [
    "```python\n",
    "a=[1,[2],2,[1]]\n",
    "\n",
    "def a_add(a,i,j): \n",
    "    if type(a[i])==type(a[j]): \n",
    "        rtn=a[i]+a[j]\n",
    "    else:\n",
    "        rtn=a[i],a[j]\n",
    "    return rtn\n",
    "```"
   ]
  },
  {
   "cell_type": "markdown",
   "id": "6c6555bf",
   "metadata": {},
   "source": [
    "#### `(a)` 아래의 출력결과 중 바른 것은?"
   ]
  },
  {
   "cell_type": "markdown",
   "id": "c903b065",
   "metadata": {},
   "source": [
    "```python \n",
    "a[0]==a[2]\n",
    "```\n",
    "```\n",
    "(ㄱ) True (ㄴ) False\n",
    "```"
   ]
  },
  {
   "cell_type": "markdown",
   "id": "cd6ed7da",
   "metadata": {},
   "source": [
    "#### `(b)` 아래의 출력결과 중 바른 것은? "
   ]
  },
  {
   "cell_type": "markdown",
   "id": "67b65954",
   "metadata": {},
   "source": [
    "```python \n",
    "type(a[0])==type(a[2])\n",
    "```\n",
    "```\n",
    "(ㄱ) True (ㄴ) False\n",
    "```"
   ]
  },
  {
   "cell_type": "markdown",
   "id": "cf1ac0c4",
   "metadata": {},
   "source": [
    "#### `(c)` 아래의 출력결과를 쓰라. "
   ]
  },
  {
   "cell_type": "markdown",
   "id": "313a0ada",
   "metadata": {},
   "source": [
    "```python \n",
    "a_add(a,0,2)\n",
    "```"
   ]
  },
  {
   "cell_type": "markdown",
   "id": "295bc608",
   "metadata": {},
   "source": [
    "#### `(d)` 아래의 출력결과를 쓰라. "
   ]
  },
  {
   "cell_type": "markdown",
   "id": "29af8725",
   "metadata": {},
   "source": [
    "```python \n",
    "a_add(a,1,3)\n",
    "```"
   ]
  },
  {
   "cell_type": "markdown",
   "id": "d9b4470b",
   "metadata": {},
   "source": [
    "#### `(e)` 아래의 출력결과중 적절한 것은? "
   ]
  },
  {
   "cell_type": "markdown",
   "id": "9b0d94b9",
   "metadata": {},
   "source": [
    "```python \n",
    "type(a_add(a,0,1))\n",
    "```\n",
    "```\n",
    "(ㄱ) int (ㄴ) float (ㄷ) bool  (ㄹ) complex \n",
    "(ㅁ) str (ㅂ) list  (ㅅ) tuple (ㅇ) dict \n",
    "```"
   ]
  },
  {
   "cell_type": "markdown",
   "id": "2a3cb09a",
   "metadata": {},
   "source": [
    "### `4` 원주율을 출력하는 방법 중 올바른 것을 모두 고르시오 (10점) "
   ]
  },
  {
   "cell_type": "markdown",
   "id": "306cdca9",
   "metadata": {},
   "source": [
    "```python\n",
    "(ㄱ) \n",
    "import math\n",
    "math.pi\n",
    "\n",
    "(ㄴ) \n",
    "import math\n",
    "pi \n",
    "\n",
    "(ㄷ)\n",
    "from math import pi\n",
    "pi\n",
    "\n",
    "(ㄹ)\n",
    "from math import *\n",
    "pi\n",
    "```"
   ]
  },
  {
   "cell_type": "markdown",
   "id": "d9b4c111",
   "metadata": {},
   "source": [
    "### `5` 아래의 에러메시지가 나오는 (잘못된) 코드는? (10점) "
   ]
  },
  {
   "cell_type": "markdown",
   "id": "97e45ec7",
   "metadata": {},
   "source": [
    "#### `(a)`"
   ]
  },
  {
   "cell_type": "markdown",
   "id": "28aed3d2-4c37-4395-b812-d7351d68ee7f",
   "metadata": {},
   "source": [
    "```\n",
    "TypeError: object of type 'float' has no len()\n",
    "```"
   ]
  },
  {
   "cell_type": "markdown",
   "id": "0b161710",
   "metadata": {},
   "source": [
    "```python\n",
    "(ㄱ) len(3.14) \n",
    "(ㄴ) len([3.14]) \n",
    "(ㄷ) len((3.14,)) \n",
    "(ㄹ) len('3.14') \n",
    "```"
   ]
  },
  {
   "cell_type": "markdown",
   "id": "d48c23d8",
   "metadata": {},
   "source": [
    "#### `(b)` (a)의 에러가 나오는 이유에 대하여 설명하라. "
   ]
  },
  {
   "cell_type": "markdown",
   "id": "f34804ac",
   "metadata": {},
   "source": [
    "### `6` 아래와 같이 a를 선언하였다고 하자. (ㄱ)-(ㄹ) 중 옳은 설명을 **모두** 골라라. (10점) "
   ]
  },
  {
   "cell_type": "markdown",
   "id": "28a7cb74",
   "metadata": {},
   "source": [
    "```python\n",
    "a='guebin'\n",
    "```"
   ]
  },
  {
   "cell_type": "markdown",
   "id": "461bcd0c",
   "metadata": {},
   "source": [
    "```\n",
    "(ㄱ) a의 자료형은 str이다. 즉 type(a)의 출력결과는 str이다. \n",
    "(ㄴ) len(a)의 실행결과는 1이다. \n",
    "(ㄷ) a[0]='G'와 같은 방법으로 첫글자를 대문자로 바꿀 수 있다. \n",
    "(ㄹ) a*2의 실행결과는 'guebinguebin'이다. \n",
    "```"
   ]
  },
  {
   "cell_type": "markdown",
   "id": "3fc7d21a",
   "metadata": {},
   "source": [
    "### `7` [예제코드]의 결과를 관찰하고 물음에 답하라. (10점) "
   ]
  },
  {
   "cell_type": "markdown",
   "id": "f2dce6e5",
   "metadata": {
    "colab": {
     "base_uri": "https://localhost:8080/"
    },
    "id": "1R1VJ1N9HwKE",
    "outputId": "3b14401f-7133-4158-b038-034d64ecba71"
   },
   "source": [
    "```python\n",
    "## 예제코드 ## \n",
    "a=['G','u','e','b','i','n']\n",
    "del a[0]\n",
    "a\n",
    "## 실행결과 \n",
    "['u', 'e', 'b', 'i', 'n']\n",
    "```"
   ]
  },
  {
   "cell_type": "markdown",
   "id": "688584ba",
   "metadata": {},
   "source": [
    "#### `(a)` 아래코드의 출력결과를 쓰라. "
   ]
  },
  {
   "cell_type": "markdown",
   "id": "e8c3db96",
   "metadata": {
    "colab": {
     "base_uri": "https://localhost:8080/"
    },
    "id": "1R1VJ1N9HwKE",
    "outputId": "3b14401f-7133-4158-b038-034d64ecba71"
   },
   "source": [
    "```python\n",
    "a=['G','u','e','b','i','n']\n",
    "del a[0]\n",
    "del a[0]\n",
    "```"
   ]
  },
  {
   "cell_type": "markdown",
   "id": "f6316112",
   "metadata": {
    "id": "EPLZ82oEHyuX"
   },
   "source": [
    "####  `(b)` 아래코드의 출력결과 중 올바른 것은? "
   ]
  },
  {
   "cell_type": "markdown",
   "id": "b55298f8",
   "metadata": {
    "colab": {
     "base_uri": "https://localhost:8080/"
    },
    "id": "NSEXd4MNH3G4",
    "outputId": "c215dbd5-9890-43f2-f97f-38f830f2dcad"
   },
   "source": [
    "```python\n",
    "b=['1','2','3']\n",
    "del b[-1]\n",
    "b\n",
    "```"
   ]
  },
  {
   "cell_type": "markdown",
   "id": "82d77f65",
   "metadata": {},
   "source": [
    "```\n",
    "(ㄱ) ['1', '2']\n",
    "(ㄴ) ['2', '3']\n",
    "(ㄷ) ['1', '3']\n",
    "(ㄹ) 에러메시지로 출력할 수 없음. \n",
    "```"
   ]
  },
  {
   "cell_type": "markdown",
   "id": "64b18359",
   "metadata": {},
   "source": [
    "### `8` 다음을 읽고 물음에 답하라. (15점) "
   ]
  },
  {
   "cell_type": "markdown",
   "id": "0d365f29",
   "metadata": {},
   "source": [
    "#### `(a)` 아래는 `.append`에 대한 사용예시이다. "
   ]
  },
  {
   "cell_type": "markdown",
   "id": "8639b95c",
   "metadata": {},
   "source": [
    "```python\n",
    "### .append 예시 \n",
    "a=[1,2]\n",
    "a.append(3)\n",
    "print(a)\n",
    "### 실행결과 \n",
    "[1, 2, 3]\n",
    "```"
   ]
  },
  {
   "cell_type": "markdown",
   "id": "f71fbcd7",
   "metadata": {},
   "source": [
    "#### 위의 코드를 참고하여 아래의 실행결과를 쓰라. "
   ]
  },
  {
   "cell_type": "markdown",
   "id": "10eda680",
   "metadata": {},
   "source": [
    "```python\n",
    "x=[]\n",
    "for i in [0,1,2,3,4,5]:\n",
    "    x.append(2**i)\n",
    "x\n",
    "```"
   ]
  },
  {
   "cell_type": "markdown",
   "id": "1d67fffd",
   "metadata": {},
   "source": [
    "#### `(b)` 리스트 컴프리헨션을 사용하여 (a)와 동일한 출력결과를 얻는 코드를 작성하라. "
   ]
  },
  {
   "cell_type": "markdown",
   "id": "cf2d3485",
   "metadata": {},
   "source": [
    "#### `(c)` 리스트 컴프리헨션을 사용하여 아래의 출력결과를 얻는 코드를 작성하라. "
   ]
  },
  {
   "cell_type": "markdown",
   "id": "c3f4f7a5",
   "metadata": {},
   "source": [
    "```python\n",
    "['X1','X2','X3','Y1','Y2','Y3']\n",
    "```"
   ]
  },
  {
   "cell_type": "markdown",
   "id": "63881914",
   "metadata": {},
   "source": [
    "### `9` a,b에 저장된 두 값을 교환하고 싶다고 하자. 아래의 ???에 알맞은 내용을 적으시오. (10점)"
   ]
  },
  {
   "cell_type": "markdown",
   "id": "0040cbbb",
   "metadata": {},
   "source": [
    "```python\n",
    "a=10\n",
    "b=20\n",
    "???\n",
    "a,b\n",
    "## 실행결과\n",
    "(20, 10)\n",
    "```"
   ]
  },
  {
   "cell_type": "markdown",
   "id": "3e6a1f5a",
   "metadata": {},
   "source": [
    "### `10` 아래의 코드에 대한 출력결과를 쓰라. (10점)\n",
    "```python\n",
    "idlist=[('guebin', '202112345','M','Korea'), \n",
    "        ('iu', '202154321','F','Korea'), \n",
    "        ('hodong', '201812321','M','Korea')]\n",
    "for name, _, _, _ in idlist: \n",
    "    print(name)        \n",
    "```"
   ]
  },
  {
   "cell_type": "markdown",
   "id": "2e343343",
   "metadata": {},
   "source": [
    "---"
   ]
  },
  {
   "cell_type": "markdown",
   "id": "0b811381",
   "metadata": {},
   "source": [
    "### `11` 리스트를 활용하여 아래와 같은 배열을 만들었다고 하자. (15점)"
   ]
  },
  {
   "cell_type": "markdown",
   "id": "addc0eca",
   "metadata": {},
   "source": [
    "```python\n",
    "a=[[11,12,13], \n",
    "   [21,22,23], \n",
    "   [31,32,33]]\n",
    "```"
   ]
  },
  {
   "cell_type": "markdown",
   "id": "5346fdc6",
   "metadata": {},
   "source": [
    "#### `(a)` 아래코드의 시행결과를 쓰라. "
   ]
  },
  {
   "cell_type": "markdown",
   "id": "970eed5a",
   "metadata": {},
   "source": [
    "```python\n",
    "a[0][1]+a[1][2]\n",
    "```"
   ]
  },
  {
   "cell_type": "markdown",
   "id": "51b611bd",
   "metadata": {},
   "source": [
    "#### `(b)` 아래코드의 시행결과를 쓰라. \n",
    "```python\n",
    "a[0]+a[1]\n",
    "```"
   ]
  },
  {
   "cell_type": "markdown",
   "id": "64891a25",
   "metadata": {},
   "source": [
    "#### `(c)` 아래코드의 시행결과를 쓰라. \n",
    "```python\n",
    "import numpy as np\n",
    "a=np.array(a)\n",
    "a[0]+a[1]\n",
    "```"
   ]
  },
  {
   "cell_type": "markdown",
   "id": "e9a40872",
   "metadata": {},
   "source": [
    "### `12` 아래와 같은 연립방정식을 만족하는 해 $(w,x,y,z)$를 푸는 코드를 작성하라. (20점)"
   ]
  },
  {
   "cell_type": "markdown",
   "id": "ddc0547b",
   "metadata": {
    "id": "zsjvKylnO3Pt"
   },
   "source": [
    "$\\begin{cases}\n",
    "x+y+z=3 \\\\ \n",
    "w+y+z=3 \\\\\n",
    "w+x+z=3 \\\\\n",
    "w+x+y=3 \n",
    "\\end{cases}$"
   ]
  },
  {
   "cell_type": "markdown",
   "id": "e3285635",
   "metadata": {},
   "source": [
    "### `13` 아래와 같은 행렬을 `numpy`를 이용하여 선언했다고 하자. (15점)"
   ]
  },
  {
   "cell_type": "markdown",
   "id": "af491454",
   "metadata": {},
   "source": [
    "```python\n",
    "import numpy as np\n",
    "A=np.array([[11,12,13,14,15],\n",
    "            [21,22,23,24,25],\n",
    "            [31,32,33,34,35]])\n",
    "```"
   ]
  },
  {
   "cell_type": "markdown",
   "id": "3e3c7768",
   "metadata": {},
   "source": [
    "#### `(a)` 다음 코드의 실행결과로 적절한 것은? "
   ]
  },
  {
   "cell_type": "markdown",
   "id": "798e80e5",
   "metadata": {},
   "source": [
    "```python\n",
    "A[1]\n",
    "```\n",
    "```\n",
    "(ㄱ) array([11, 12, 13, 14, 15])\n",
    "(ㄴ) array([21, 22, 23, 24, 25])\n",
    "(ㄷ) array([11, 21, 31])\n",
    "(ㄹ) array([12, 22, 32])\n",
    "```"
   ]
  },
  {
   "cell_type": "markdown",
   "id": "53b845a0",
   "metadata": {},
   "source": [
    "#### `(b)` 다음 코드의 실행결과로 적절한 것은? "
   ]
  },
  {
   "cell_type": "markdown",
   "id": "3420ec91",
   "metadata": {},
   "source": [
    "```python\n",
    "A[1,:]\n",
    "```\n",
    "```\n",
    "(ㄱ) array([11, 12, 13, 14, 15])\n",
    "(ㄴ) array([21, 22, 23, 24, 25])\n",
    "(ㄷ) array([11, 21, 31])\n",
    "(ㄹ) array([12, 22, 32])\n",
    "```"
   ]
  },
  {
   "cell_type": "markdown",
   "id": "86d700ea",
   "metadata": {},
   "source": [
    "#### `(c)` 다음 코드의 실행결과로 적절한 것은? "
   ]
  },
  {
   "cell_type": "markdown",
   "id": "dcaee84d",
   "metadata": {},
   "source": [
    "```python\n",
    "A[np.ix_([0,1],[0,1])]\n",
    "```\n",
    "```\n",
    "(ㄱ)\n",
    "array([[11, 12],\n",
    "       [21, 22]]) \n",
    "(ㄴ) \n",
    "array([[11, 21],\n",
    "       [12, 22]]) \n",
    "(ㄷ) \n",
    "array([11, 12, 21, 22]) \n",
    "\n",
    "(ㄹ) \n",
    "array([12, 22, 11, 12])\n",
    "```"
   ]
  },
  {
   "cell_type": "markdown",
   "id": "2bdf37b2",
   "metadata": {},
   "source": [
    "### `14` 적당한 과정을 통하여 아래와 같은 데이터를 얻었다고 가정하자. (20점)"
   ]
  },
  {
   "cell_type": "markdown",
   "id": "23b15e7d",
   "metadata": {},
   "source": [
    "```python\n",
    "import pandas as pd\n",
    "#...적당한과정...\n",
    "df\n",
    "```"
   ]
  },
  {
   "cell_type": "code",
   "execution_count": 25,
   "id": "bf215c1e-a59e-411a-afbd-1873eb5db1bb",
   "metadata": {},
   "outputs": [
    {
     "data": {
      "text/html": [
       "<table border=\"1\" class=\"dataframe\">\n",
       "  <thead>\n",
       "    <tr style=\"text-align: right;\">\n",
       "      <th></th>\n",
       "      <th>age</th>\n",
       "      <th>toeic</th>\n",
       "      <th>gpa</th>\n",
       "    </tr>\n",
       "  </thead>\n",
       "  <tbody>\n",
       "    <tr>\n",
       "      <th>새로이</th>\n",
       "      <td>30.0</td>\n",
       "      <td>600</td>\n",
       "      <td>4.0</td>\n",
       "    </tr>\n",
       "    <tr>\n",
       "      <th>이서</th>\n",
       "      <td>20.0</td>\n",
       "      <td>950</td>\n",
       "      <td>4.2</td>\n",
       "    </tr>\n",
       "    <tr>\n",
       "      <th>일권</th>\n",
       "      <td>28.0</td>\n",
       "      <td>450</td>\n",
       "      <td>2.3</td>\n",
       "    </tr>\n",
       "    <tr>\n",
       "      <th>현이</th>\n",
       "      <td>28.0</td>\n",
       "      <td>650</td>\n",
       "      <td>3.8</td>\n",
       "    </tr>\n",
       "  </tbody>\n",
       "</table>"
      ],
      "text/plain": [
       "<IPython.core.display.HTML object>"
      ]
     },
     "execution_count": 25,
     "metadata": {},
     "output_type": "execute_result"
    }
   ],
   "source": [
    "#hide\n",
    "from IPython.display import HTML\n",
    "HTML('<table border=\"1\" class=\"dataframe\">\\n  <thead>\\n    <tr style=\"text-align: right;\">\\n      <th></th>\\n      <th>age</th>\\n      <th>toeic</th>\\n      <th>gpa</th>\\n    </tr>\\n  </thead>\\n  <tbody>\\n    <tr>\\n      <th>새로이</th>\\n      <td>30.0</td>\\n      <td>600</td>\\n      <td>4.0</td>\\n    </tr>\\n    <tr>\\n      <th>이서</th>\\n      <td>20.0</td>\\n      <td>950</td>\\n      <td>4.2</td>\\n    </tr>\\n    <tr>\\n      <th>일권</th>\\n      <td>28.0</td>\\n      <td>450</td>\\n      <td>2.3</td>\\n    </tr>\\n    <tr>\\n      <th>현이</th>\\n      <td>28.0</td>\\n      <td>650</td>\\n      <td>3.8</td>\\n    </tr>\\n  </tbody>\\n</table>')"
   ]
  },
  {
   "cell_type": "markdown",
   "id": "d0e03e94",
   "metadata": {},
   "source": [
    "#### `(a)` 첫 두열(age,toeic)에 접근하는 코드를 써라. "
   ]
  },
  {
   "cell_type": "markdown",
   "id": "492c3367",
   "metadata": {},
   "source": [
    "#### `(b)` 토익점수가 800이상인 사람을 불러오는 코드를 써라. "
   ]
  },
  {
   "cell_type": "markdown",
   "id": "3064bb07",
   "metadata": {},
   "source": [
    "#### `(c)` 세번째 열(gpa)에 접근하는 코드 중 적절한 것을 모두 골라라. \n",
    "```python\n",
    "(ㄱ) \n",
    "df.loc['gpa']\n",
    "(ㄴ) \n",
    "df.iloc[:,2]\n",
    "(ㄷ) \n",
    "df.iloc[:,-1]\n",
    "(ㄹ) \n",
    "df.iloc[2]\n",
    "```"
   ]
  },
  {
   "cell_type": "markdown",
   "id": "a1f9a884",
   "metadata": {},
   "source": [
    "#### `(d)` 나이가 23보다 많고 토익점수가 635이하 학점이 3.0 이상인 사람을 불러오는 코드를 작성하라. "
   ]
  },
  {
   "cell_type": "markdown",
   "id": "b56e47ba",
   "metadata": {},
   "source": [
    "### `15` 아래를 보고 적절한 설명을 한 사람을 모두 고르라. (10점)"
   ]
  },
  {
   "cell_type": "markdown",
   "id": "acbee8d7-ddf0-43ab-86fd-967b4d16e48b",
   "metadata": {},
   "source": [
    "```python\n",
    "import vec\n",
    "vec?\n",
    "```\n",
    "\n",
    "```\n",
    "Type:        module\n",
    "String form: <module 'vec' from '/home/cgb2/vec/__init__.py'>\n",
    "File:        ~/vec/__init__.py\n",
    "Docstring:   이 패키지는 현재 길이가 2,3인 벡터의 연산만 지원하지만 추후 업데이트하여 더욱 발전할 예정\n",
    "```\n",
    "\n"
   ]
  },
  {
   "cell_type": "markdown",
   "id": "399d2793",
   "metadata": {},
   "source": [
    "**(로이)** `import vec`이 실행되는 것을 보니 (1) 사용자가 `vec`이라는 패키지를 설치했거나 (2) 사용자가 현재 작업중인 폴더에 `vec.py`파일을 만들었거나 (3) 사용자가 현재 작업중인 폴더 아래 `vec`이라는 폴더가 존재하는 경우등 중 하나라고 볼 수 있겠군. "
   ]
  },
  {
   "cell_type": "markdown",
   "id": "67bd4f2d",
   "metadata": {},
   "source": [
    "**(이서)** 네, 그런데 `vec?`의 실행 결과중 `File:`을 확인해 보니 사용자가 작업중인 폴더아래 `vec`이라는 폴더가 있는것으로 판단됩니다. "
   ]
  },
  {
   "cell_type": "markdown",
   "id": "e1deb92f",
   "metadata": {},
   "source": [
    "**(일권)** 이서가 말한대로 `File:`을 확인해보니 사용자가 `vec`폴더에 `__init__.py`도 만들어 놓았음을 알수 있군. `__init__.py`는 `import vec`을 수행하면 암시적으로 실행된다고 했었지? "
   ]
  },
  {
   "cell_type": "markdown",
   "id": "95ab1236",
   "metadata": {},
   "source": [
    "**(현이)** 그렇지, 그런데 사실 파일 이름이 꼭 `__init__.py`이어야 하는것은 아니야. "
   ]
  },
  {
   "cell_type": "markdown",
   "id": "22268e08",
   "metadata": {},
   "source": [
    "**(수아)** `vec?`의 실행결과 `Docstring:`이 있는것으로 보아 `__init__.py`상단에 아래와 같은 내용이 있음을 유추할 수 있어. \n",
    "```python\n",
    "'''\n",
    "이 패키지는 현재 길이가 2,3인 벡터의 연산만 지원하지만 추후 업데이트하여 더욱 발전할 예정\n",
    "'''\n",
    "```"
   ]
  }
 ],
 "metadata": {
  "kernelspec": {
   "display_name": "Python 3 (ipykernel)",
   "language": "python",
   "name": "python3"
  },
  "language_info": {
   "codemirror_mode": {
    "name": "ipython",
    "version": 3
   },
   "file_extension": ".py",
   "mimetype": "text/x-python",
   "name": "python",
   "nbconvert_exporter": "python",
   "pygments_lexer": "ipython3",
   "version": "3.9.10"
  }
 },
 "nbformat": 4,
 "nbformat_minor": 5
}
