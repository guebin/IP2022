{
 "cells": [
  {
   "cell_type": "markdown",
   "id": "5ff56924-7214-48d0-b429-6897dd659663",
   "metadata": {},
   "source": [
    "## imports "
   ]
  },
  {
   "cell_type": "code",
   "execution_count": 2,
   "id": "4950bfdc-1618-40dc-8cf7-50c36cd76abe",
   "metadata": {},
   "outputs": [],
   "source": [
    "from PIL import Image\n",
    "import requests"
   ]
  },
  {
   "cell_type": "markdown",
   "id": "dcadaedb-d233-4526-b5b9-f37bd1340762",
   "metadata": {},
   "source": [
    "## 클래스 공부 2단계"
   ]
  },
  {
   "cell_type": "markdown",
   "id": "71de7680-ff6e-481f-839d-a8910d2ab320",
   "metadata": {
    "tags": []
   },
   "source": [
    "### `__init__()`"
   ]
  },
  {
   "cell_type": "markdown",
   "id": "4bebda0b-aae1-458a-be15-64a7ae8438ff",
   "metadata": {},
   "source": [
    "`-` STOOOP을 다시 복습"
   ]
  },
  {
   "cell_type": "code",
   "execution_count": 3,
   "id": "db849294-45f1-4f9c-9383-585544ddb092",
   "metadata": {},
   "outputs": [],
   "source": [
    "url1 = 'https://github.com/guebin/IP2022/blob/master/_notebooks/2022-05-07-stop1.jpeg?raw=true'\n",
    "url2 = 'https://github.com/guebin/IP2022/blob/master/_notebooks/2022-05-07-stop2.png?raw=true' "
   ]
  },
  {
   "cell_type": "code",
   "execution_count": 4,
   "id": "b6963db6-d69f-428d-80e0-c63a4ccfe531",
   "metadata": {},
   "outputs": [],
   "source": [
    "class STOOOP: \n",
    "    title = '학교폭력!' \n",
    "    url = url1\n",
    "    end = '멈춰~~~~'\n",
    "    def stop(self):\n",
    "        print(self.title)\n",
    "        display(Image.open(Image.io.BytesIO(requests.get(self.url).content)))\n",
    "        print(self.end) "
   ]
  }
 ],
 "metadata": {
  "kernelspec": {
   "display_name": "Python 3 (ipykernel)",
   "language": "python",
   "name": "python3"
  },
  "language_info": {
   "codemirror_mode": {
    "name": "ipython",
    "version": 3
   },
   "file_extension": ".py",
   "mimetype": "text/x-python",
   "name": "python",
   "nbconvert_exporter": "python",
   "pygments_lexer": "ipython3",
   "version": "3.10.2"
  }
 },
 "nbformat": 4,
 "nbformat_minor": 5
}
